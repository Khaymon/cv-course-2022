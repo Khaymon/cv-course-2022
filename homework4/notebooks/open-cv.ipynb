{
 "cells": [
  {
   "cell_type": "code",
   "execution_count": 20,
   "id": "3ccd2535",
   "metadata": {},
   "outputs": [],
   "source": [
    "import cv2\n",
    "import numpy as np\n",
    "import os\n",
    "from tqdm import tqdm\n",
    "from PIL import Image\n",
    "import json"
   ]
  },
  {
   "cell_type": "code",
   "execution_count": 21,
   "id": "2cd8ce92",
   "metadata": {},
   "outputs": [],
   "source": [
    "MARKUP_FILE = \"../data/background_markup.json\"\n",
    "\n",
    "with open(MARKUP_FILE, 'r') as input_file:\n",
    "    backgrounds_markup = json.load(input_file)[\"data\"]"
   ]
  },
  {
   "cell_type": "code",
   "execution_count": 23,
   "id": "f4a4cee5",
   "metadata": {},
   "outputs": [
    {
     "name": "stderr",
     "output_type": "stream",
     "text": [
      "  0%|                                                                                           | 0/10 [00:00<?, ?it/s]\n",
      "  0%|                                                                                           | 0/12 [00:00<?, ?it/s]\u001b[A\n",
      "100%|██████████████████████████████████████████████████████████████████████████████████| 12/12 [01:19<00:00,  6.59s/it]\u001b[A\n",
      " 10%|████████▎                                                                          | 1/10 [01:19<11:51, 79.08s/it]\n",
      "  0%|                                                                                           | 0/12 [00:00<?, ?it/s]\u001b[A\n",
      "100%|██████████████████████████████████████████████████████████████████████████████████| 12/12 [01:21<00:00,  6.81s/it]\u001b[A\n",
      " 20%|████████████████▌                                                                  | 2/10 [02:40<10:44, 80.61s/it]\n",
      "  0%|                                                                                           | 0/12 [00:00<?, ?it/s]\u001b[A\n",
      "100%|██████████████████████████████████████████████████████████████████████████████████| 12/12 [01:24<00:00,  7.02s/it]\u001b[A\n",
      " 30%|████████████████████████▉                                                          | 3/10 [04:05<09:36, 82.30s/it]\n",
      "  0%|                                                                                           | 0/12 [00:00<?, ?it/s]\u001b[A\n",
      "100%|██████████████████████████████████████████████████████████████████████████████████| 12/12 [01:31<00:00,  7.58s/it]\u001b[A\n",
      " 40%|█████████████████████████████████▏                                                 | 4/10 [05:36<08:34, 85.74s/it]\n",
      "  0%|                                                                                           | 0/12 [00:00<?, ?it/s]\u001b[A\n",
      "100%|██████████████████████████████████████████████████████████████████████████████████| 12/12 [01:35<00:00,  7.96s/it]\u001b[A\n",
      " 50%|█████████████████████████████████████████▌                                         | 5/10 [07:11<07:26, 89.28s/it]\n",
      "  0%|                                                                                           | 0/12 [00:00<?, ?it/s]\u001b[A\n",
      "100%|██████████████████████████████████████████████████████████████████████████████████| 12/12 [01:50<00:00,  9.24s/it]\u001b[A\n",
      " 60%|█████████████████████████████████████████████████▊                                 | 6/10 [09:02<06:26, 96.63s/it]\n",
      "  0%|                                                                                           | 0/12 [00:00<?, ?it/s]\u001b[A\n",
      "100%|██████████████████████████████████████████████████████████████████████████████████| 12/12 [01:29<00:00,  7.44s/it]\u001b[A\n",
      " 70%|██████████████████████████████████████████████████████████                         | 7/10 [10:31<04:42, 94.22s/it]\n",
      "  0%|                                                                                           | 0/12 [00:00<?, ?it/s]\u001b[A\n",
      "100%|██████████████████████████████████████████████████████████████████████████████████| 12/12 [01:16<00:00,  6.41s/it]\u001b[A\n",
      " 80%|██████████████████████████████████████████████████████████████████▍                | 8/10 [11:48<02:57, 88.73s/it]\n",
      "  0%|                                                                                           | 0/12 [00:00<?, ?it/s]\u001b[A\n",
      "100%|██████████████████████████████████████████████████████████████████████████████████| 12/12 [01:18<00:00,  6.57s/it]\u001b[A\n",
      " 90%|██████████████████████████████████████████████████████████████████████████▋        | 9/10 [13:07<01:25, 85.66s/it]\n",
      "  0%|                                                                                           | 0/12 [00:00<?, ?it/s]\u001b[A\n",
      "100%|██████████████████████████████████████████████████████████████████████████████████| 12/12 [01:19<00:00,  6.66s/it]\u001b[A\n",
      "100%|██████████████████████████████████████████████████████████████████████████████████| 10/10 [14:27<00:00, 86.76s/it]\n"
     ]
    }
   ],
   "source": [
    "PAPERS_FOLDER_PATH = \"../data/images/\"\n",
    "BACKGROUNDS_FOLDER_PATH = \"../data/backgrounds/\"\n",
    "\n",
    "images = os.listdir(PAPERS_FOLDER_PATH)\n",
    "backgrounds = os.listdir(BACKGROUNDS_FOLDER_PATH)\n",
    "\n",
    "for image_name in tqdm(images):\n",
    "    for background_name in tqdm(backgrounds):\n",
    "        if background_name != 'art_gallery.jpg':\n",
    "            continue\n",
    "        image = cv2.imread(os.path.join(PAPERS_FOLDER_PATH, image_name))\n",
    "        background = cv2.imread(os.path.join(BACKGROUNDS_FOLDER_PATH, background_name))\n",
    "\n",
    "        background = cv2.cvtColor(background, cv2.COLOR_RGB2RGBA)\n",
    "        image = cv2.cvtColor(image, cv2.COLOR_RGB2RGBA)\n",
    "        \n",
    "        background_data = list(filter(lambda background: background[\"image_name\"] == background_name, backgrounds_markup))[0]\n",
    "\n",
    "        background_rows = background.shape[0]\n",
    "        background_columns = background.shape[1]\n",
    "\n",
    "        rows = image.shape[0]\n",
    "        columns = image.shape[1]\n",
    "\n",
    "        init = np.float32([[0, 0], [0, rows - 1], [columns - 1, rows - 1], [columns - 1, 0]])\n",
    "        res = np.float32(background_data[\"borders\"])\n",
    "\n",
    "        M = cv2.getPerspectiveTransform(res, init)\n",
    "        M_inv = np.linalg.pinv(M)\n",
    "\n",
    "        result_image = cv2.warpPerspective(image, M_inv, (background_columns, background_rows), cv2.INTER_LINEAR_EXACT)\n",
    "        \n",
    "        result_background = background.copy()\n",
    "\n",
    "        for i in range(result_image.shape[0]):\n",
    "            for j in range(result_image.shape[1]):\n",
    "                for channel in range(3):\n",
    "                    if result_image[i, j, 3] != 0:\n",
    "                        result_background[i, j, channel] = result_image[i, j, channel]\n",
    "                        \n",
    "        cv2.imwrite(f\"{image_name}_{background_name}.png\", result_background)"
   ]
  },
  {
   "cell_type": "code",
   "execution_count": 7,
   "id": "81a9a8fd",
   "metadata": {},
   "outputs": [],
   "source": [
    "image = cv2.imread(\"1.png_art_and_museum.jpg.png\")"
   ]
  },
  {
   "cell_type": "code",
   "execution_count": 18,
   "id": "475c1262",
   "metadata": {},
   "outputs": [],
   "source": [
    "kernel = np.ones((2,2),np.float32)/4\n",
    "dst = cv2.filter2D(image, -1, kernel)"
   ]
  },
  {
   "cell_type": "code",
   "execution_count": 19,
   "id": "103c18ef",
   "metadata": {},
   "outputs": [
    {
     "data": {
      "text/plain": [
       "True"
      ]
     },
     "execution_count": 19,
     "metadata": {},
     "output_type": "execute_result"
    }
   ],
   "source": [
    "cv2.imwrite(\"blur.png\", dst)"
   ]
  },
  {
   "cell_type": "code",
   "execution_count": null,
   "id": "21a9f4d1",
   "metadata": {},
   "outputs": [],
   "source": []
  }
 ],
 "metadata": {
  "kernelspec": {
   "display_name": "Python 3 (ipykernel)",
   "language": "python",
   "name": "python3"
  },
  "language_info": {
   "codemirror_mode": {
    "name": "ipython",
    "version": 3
   },
   "file_extension": ".py",
   "mimetype": "text/x-python",
   "name": "python",
   "nbconvert_exporter": "python",
   "pygments_lexer": "ipython3",
   "version": "3.9.15"
  }
 },
 "nbformat": 4,
 "nbformat_minor": 5
}
