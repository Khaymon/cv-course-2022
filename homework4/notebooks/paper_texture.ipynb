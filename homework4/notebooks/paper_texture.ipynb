{
 "cells": [
  {
   "cell_type": "code",
   "execution_count": 3,
   "id": "d7452124",
   "metadata": {},
   "outputs": [],
   "source": [
    "import numpy as np\n",
    "import pandas as pd\n",
    "import cv2"
   ]
  },
  {
   "cell_type": "code",
   "execution_count": 58,
   "id": "aebc0b33",
   "metadata": {},
   "outputs": [],
   "source": [
    "PAPER_PATH = \"../data/images/1.png\"\n",
    "TEXTURE_PATH = \"../data/textures/texture3.png\""
   ]
  },
  {
   "cell_type": "code",
   "execution_count": 59,
   "id": "a3eb6409",
   "metadata": {},
   "outputs": [],
   "source": [
    "paper = cv2.imread(PAPER_PATH)\n",
    "texture = cv2.imread(TEXTURE_PATH)"
   ]
  },
  {
   "cell_type": "code",
   "execution_count": 60,
   "id": "e46d3302",
   "metadata": {},
   "outputs": [],
   "source": [
    "texture_resized = cv2.resize(texture, paper.shape[:2]).transpose((1, 0, 2))"
   ]
  },
  {
   "cell_type": "code",
   "execution_count": 61,
   "id": "f30f0abd",
   "metadata": {},
   "outputs": [
    {
     "data": {
      "text/plain": [
       "((2107, 1279, 3), (2107, 1279, 3))"
      ]
     },
     "execution_count": 61,
     "metadata": {},
     "output_type": "execute_result"
    }
   ],
   "source": [
    "paper.shape, texture_resized.shape"
   ]
  },
  {
   "cell_type": "code",
   "execution_count": 62,
   "id": "04772334",
   "metadata": {},
   "outputs": [
    {
     "data": {
      "text/plain": [
       "True"
      ]
     },
     "execution_count": 62,
     "metadata": {},
     "output_type": "execute_result"
    }
   ],
   "source": [
    "result_image = cv2.addWeighted(texture_resized, 0.5, paper, 0.5, 0.0, 3)\n",
    "cv2.imwrite(\"result.png\", result_image)"
   ]
  },
  {
   "cell_type": "code",
   "execution_count": 30,
   "id": "3acecd20",
   "metadata": {},
   "outputs": [
    {
     "data": {
      "text/plain": [
       "(2107, 1279, 3)"
      ]
     },
     "execution_count": 30,
     "metadata": {},
     "output_type": "execute_result"
    }
   ],
   "source": [
    "texture_resized.transpose((1, 0, 2)).shape"
   ]
  },
  {
   "cell_type": "code",
   "execution_count": null,
   "id": "4486b09a",
   "metadata": {},
   "outputs": [],
   "source": []
  }
 ],
 "metadata": {
  "kernelspec": {
   "display_name": "Python 3 (ipykernel)",
   "language": "python",
   "name": "python3"
  },
  "language_info": {
   "codemirror_mode": {
    "name": "ipython",
    "version": 3
   },
   "file_extension": ".py",
   "mimetype": "text/x-python",
   "name": "python",
   "nbconvert_exporter": "python",
   "pygments_lexer": "ipython3",
   "version": "3.9.13"
  }
 },
 "nbformat": 4,
 "nbformat_minor": 5
}
