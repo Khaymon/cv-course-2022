{
 "cells": [
  {
   "cell_type": "code",
   "execution_count": 78,
   "metadata": {},
   "outputs": [],
   "source": [
    "import numpy as np\n",
    "import imgaug.augmenters as iaa\n",
    "import imgaug.parameters as iap\n",
    "import cv2\n"
   ]
  },
  {
   "cell_type": "code",
   "execution_count": 36,
   "metadata": {},
   "outputs": [],
   "source": [
    "image = cv2.imread(\"../data/images/2.png\")"
   ]
  },
  {
   "cell_type": "code",
   "execution_count": 13,
   "metadata": {},
   "outputs": [
    {
     "data": {
      "text/plain": [
       "True"
      ]
     },
     "execution_count": 13,
     "metadata": {},
     "output_type": "execute_result"
    }
   ],
   "source": [
    "aug = iaa.MotionBlur(k=15)\n",
    "cv2.imwrite(\"fwefew.png\", aug(image=image))"
   ]
  },
  {
   "cell_type": "code",
   "execution_count": 14,
   "metadata": {},
   "outputs": [],
   "source": [
    "preproc_image = cv2.imread(\"../data/augmented/1.png_82129-0-medium.jpg.png\")"
   ]
  },
  {
   "cell_type": "code",
   "execution_count": 15,
   "metadata": {},
   "outputs": [],
   "source": [
    "autocontrast = iaa.pillike.Autocontrast()"
   ]
  },
  {
   "cell_type": "code",
   "execution_count": 17,
   "metadata": {},
   "outputs": [
    {
     "data": {
      "text/plain": [
       "True"
      ]
     },
     "execution_count": 17,
     "metadata": {},
     "output_type": "execute_result"
    }
   ],
   "source": [
    "cv2.imwrite(\"opkrqw.png\", autocontrast(image=preproc_image))"
   ]
  },
  {
   "cell_type": "code",
   "execution_count": 22,
   "metadata": {},
   "outputs": [
    {
     "data": {
      "text/plain": [
       "True"
      ]
     },
     "execution_count": 22,
     "metadata": {},
     "output_type": "execute_result"
    }
   ],
   "source": [
    "noise = iaa.AdditiveGaussianNoise(scale=0.2*255)\n",
    "cv2.imwrite(\"noise.png\", noise(image=image))"
   ]
  },
  {
   "cell_type": "code",
   "execution_count": 24,
   "metadata": {},
   "outputs": [
    {
     "data": {
      "text/plain": [
       "(1650, 1275, 3)"
      ]
     },
     "execution_count": 24,
     "metadata": {},
     "output_type": "execute_result"
    }
   ],
   "source": [
    "image.shape"
   ]
  },
  {
   "cell_type": "code",
   "execution_count": 47,
   "metadata": {},
   "outputs": [
    {
     "data": {
      "text/plain": [
       "(array([  37,  133,  212,  292,  309,  392,  562,  660,  705,  790, 1231],\n",
       "       dtype=int64),)"
      ]
     },
     "execution_count": 47,
     "metadata": {},
     "output_type": "execute_result"
    }
   ],
   "source": [
    "np.where(mask)"
   ]
  },
  {
   "cell_type": "code",
   "execution_count": 56,
   "metadata": {},
   "outputs": [
    {
     "data": {
      "text/plain": [
       "True"
      ]
     },
     "execution_count": 56,
     "metadata": {},
     "output_type": "execute_result"
    }
   ],
   "source": [
    "image = cv2.imread(\"../data/images/2.png\")\n",
    "\n",
    "mask = np.random.binomial(1, 0.001, size=image.shape[1])\n",
    "for idx in np.where(mask)[0]:\n",
    "    end_idx = idx + 3\n",
    "    image[:, idx:end_idx] = 0\n",
    "    \n",
    "cv2.imwrite(\"lines.png\", image)"
   ]
  },
  {
   "cell_type": "code",
   "execution_count": 31,
   "metadata": {},
   "outputs": [],
   "source": [
    "image[:, mask] = 0"
   ]
  },
  {
   "cell_type": "code",
   "execution_count": 100,
   "metadata": {},
   "outputs": [
    {
     "data": {
      "text/plain": [
       "True"
      ]
     },
     "execution_count": 100,
     "metadata": {},
     "output_type": "execute_result"
    }
   ],
   "source": [
    "image = cv2.imread(\"../data/images/2.png\")\n",
    "preproc_image = cv2.imread(\"../data/augmented/1.png_82129-0-medium.jpg.png\")\n",
    "\n",
    "# aug = iaa.BlendAlphaSimplexNoise(\n",
    "#     iaa.EdgeDetect(0.4),\n",
    "#     sigmoid_thresh=iap.Normal(10.0, 5.0))\n",
    "\n",
    "vert_aug = iaa.BlendAlphaHorizontalLinearGradient(\n",
    "    iaa.TotalDropout(1.0),\n",
    "    min_value=0.0, max_value=0.5)\n",
    "\n",
    "hor_aug = iaa.BlendAlphaVerticalLinearGradient(\n",
    "    iaa.TotalDropout(1.0),\n",
    "    min_value=0.0, max_value=0.5)\n",
    "\n",
    "neg_vert_aug = iaa.BlendAlphaHorizontalLinearGradient(\n",
    "    iaa.TotalDropout(1.0),\n",
    "    min_value=0.5, max_value=0.0)\n",
    "\n",
    "neg_hor_aug = iaa.BlendAlphaVerticalLinearGradient(\n",
    "    iaa.TotalDropout(1.0),\n",
    "    min_value=0.5, max_value=0.0)\n",
    "\n",
    "image = hor_aug(image=vert_aug(image=preproc_image))\n",
    "image = neg_hor_aug(image=neg_vert_aug(image=image))\n",
    "cv2.imwrite(\"qwdiqnwdion.png\", image)"
   ]
  },
  {
   "cell_type": "code",
   "execution_count": null,
   "metadata": {},
   "outputs": [],
   "source": []
  }
 ],
 "metadata": {
  "kernelspec": {
   "display_name": "base",
   "language": "python",
   "name": "python3"
  },
  "language_info": {
   "codemirror_mode": {
    "name": "ipython",
    "version": 3
   },
   "file_extension": ".py",
   "mimetype": "text/x-python",
   "name": "python",
   "nbconvert_exporter": "python",
   "pygments_lexer": "ipython3",
   "version": "3.9.15"
  },
  "orig_nbformat": 4,
  "vscode": {
   "interpreter": {
    "hash": "ad2bdc8ecc057115af97d19610ffacc2b4e99fae6737bb82f5d7fb13d2f2c186"
   }
  }
 },
 "nbformat": 4,
 "nbformat_minor": 2
}
