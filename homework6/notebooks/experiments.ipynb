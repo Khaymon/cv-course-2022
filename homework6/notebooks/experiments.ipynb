{
 "cells": [
  {
   "attachments": {},
   "cell_type": "markdown",
   "metadata": {},
   "source": [
    "## Approach"
   ]
  },
  {
   "attachments": {},
   "cell_type": "markdown",
   "metadata": {},
   "source": [
    "We will be looking for nested squares with big areas inside them. To do that we firstly apply some filters (bilateral and Gaussian), extract edges with Canny filter. After that we find contours and their hierarchy to be able to find parents and children in terms of nesting."
   ]
  },
  {
   "cell_type": "code",
   "execution_count": 2,
   "metadata": {},
   "outputs": [],
   "source": [
    "import cv2\n",
    "import numpy as np\n",
    "from tqdm.notebook import tqdm\n",
    "from time import time\n",
    "import os\n",
    "\n",
    "DATA_PATH = '../data/input/'\n",
    "RESULT_PATH = '../data/result/'"
   ]
  },
  {
   "cell_type": "code",
   "execution_count": 4,
   "metadata": {},
   "outputs": [
    {
     "data": {
      "application/vnd.jupyter.widget-view+json": {
       "model_id": "9afb93ebd8c94ddd9b3fa1b4ec658ea7",
       "version_major": 2,
       "version_minor": 0
      },
      "text/plain": [
       "  0%|          | 0/47 [00:00<?, ?it/s]"
      ]
     },
     "metadata": {},
     "output_type": "display_data"
    },
    {
     "data": {
      "application/vnd.jupyter.widget-view+json": {
       "model_id": "633efd67a13a4481b0c863680d05a9c3",
       "version_major": 2,
       "version_minor": 0
      },
      "text/plain": [
       "  0%|          | 0/48 [00:00<?, ?it/s]"
      ]
     },
     "metadata": {},
     "output_type": "display_data"
    },
    {
     "data": {
      "application/vnd.jupyter.widget-view+json": {
       "model_id": "4ef08d382d9e4128a3072e5ed7ab25f6",
       "version_major": 2,
       "version_minor": 0
      },
      "text/plain": [
       "  0%|          | 0/150 [00:00<?, ?it/s]"
      ]
     },
     "metadata": {},
     "output_type": "display_data"
    },
    {
     "name": "stdout",
     "output_type": "stream",
     "text": [
      "Time elapsed: 142.6408452987671\n"
     ]
    }
   ],
   "source": [
    "def children_count(hierarchy, parent, inner=False):\n",
    "    if parent == -1:\n",
    "        return 0\n",
    "    elif not inner:\n",
    "        return children_count(hierarchy, hierarchy[parent][2], True)\n",
    "    return children_count(hierarchy, hierarchy[parent][0], True) + children_count(hierarchy, hierarchy[parent][2], True) + 1\n",
    "\n",
    "def has_parent_square(hierarchy, squares, parent):\n",
    "    if hierarchy[parent][3] == -1:\n",
    "        return False\n",
    "    if hierarchy[parent][3] in squares:\n",
    "        return True\n",
    "    return has_parent_square(hierarchy, squares, hierarchy[parent][3])\n",
    "\n",
    "def detect_finder_patterns(image: np.ndarray, length: float = 0.15, area: float = 1000.0):\n",
    "    gray_image = cv2.cvtColor(image, cv2.COLOR_BGR2GRAY)\n",
    "    filtered_image = cv2.bilateralFilter(gray_image, 11, 17, 17)\n",
    "    blured_image = cv2.GaussianBlur(filtered_image, (3, 3), 0)\n",
    "    edged_image = cv2.Canny(blured_image, 30, 200)\n",
    "\n",
    "    contours, hierarchy = cv2.findContours(edged_image.copy(), cv2.RETR_TREE, cv2.CHAIN_APPROX_SIMPLE)\n",
    "\n",
    "    squares = []\n",
    "    square_indices = []\n",
    "    \n",
    "    for i, contour in enumerate(contours):\n",
    "        contour_length = cv2.arcLength(contour, True)\n",
    "        contour_area = cv2.contourArea(contour)\n",
    "        approx_contour = cv2.approxPolyDP(contour, 0.03 * contour_length, True)\n",
    "\n",
    "        if len(approx_contour) == 4:\n",
    "            children = children_count(hierarchy[0], i)\n",
    "            has_parent = has_parent_square(hierarchy[0], square_indices, i)\n",
    "            \n",
    "            if contour_area > area and np.abs(((contour_length / 4) ** 2) / contour_area - 1) < length and children > 1 and not has_parent:\n",
    "                squares.append(approx_contour)\n",
    "                square_indices.append(i)\n",
    "\n",
    "    cv2.drawContours(image, squares, -1, (0, 0, 255), 5)\n",
    "\n",
    "    return image\n",
    "\n",
    "start = time()\n",
    "\n",
    "for test_suite in (1, 2, 3):\n",
    "    test_suite_path = os.path.join(DATA_PATH, f\"TestSet{test_suite}\")\n",
    "    result_suite_path = os.path.join(RESULT_PATH, f\"TestSet{test_suite}Result\")\n",
    "    if not os.path.exists(result_suite_path):\n",
    "        os.mkdir(result_suite_path)\n",
    "    for image_name in tqdm(os.listdir(test_suite_path)):\n",
    "        image = cv2.imread(os.path.join(test_suite_path, image_name))\n",
    "        preprocessed_image = detect_finder_patterns(image)\n",
    "        cv2.imwrite(os.path.join(result_suite_path, image_name), preprocessed_image)\n",
    "\n",
    "print(\"Time elapsed:\", time() - start)"
   ]
  },
  {
   "attachments": {},
   "cell_type": "markdown",
   "metadata": {},
   "source": [
    "## Results"
   ]
  },
  {
   "attachments": {},
   "cell_type": "markdown",
   "metadata": {},
   "source": [
    "### Quality"
   ]
  },
  {
   "attachments": {},
   "cell_type": "markdown",
   "metadata": {},
   "source": [
    "| Dataset | Precision/Recall |\n",
    "|:-------:|:----------------:|\n",
    "|TestSet1| 0.86/0.9 |\n",
    "|TestSet2| 0.85/0.8 |\n",
    "|TestSet3| 0.58/0.75 |"
   ]
  },
  {
   "attachments": {},
   "cell_type": "markdown",
   "metadata": {},
   "source": [
    "### Time"
   ]
  },
  {
   "attachments": {},
   "cell_type": "markdown",
   "metadata": {},
   "source": [
    "Average working time on test datesets is 0.35 seconds per image."
   ]
  }
 ],
 "metadata": {
  "kernelspec": {
   "display_name": "base",
   "language": "python",
   "name": "python3"
  },
  "language_info": {
   "codemirror_mode": {
    "name": "ipython",
    "version": 3
   },
   "file_extension": ".py",
   "mimetype": "text/x-python",
   "name": "python",
   "nbconvert_exporter": "python",
   "pygments_lexer": "ipython3",
   "version": "3.9.15"
  },
  "orig_nbformat": 4,
  "vscode": {
   "interpreter": {
    "hash": "ad2bdc8ecc057115af97d19610ffacc2b4e99fae6737bb82f5d7fb13d2f2c186"
   }
  }
 },
 "nbformat": 4,
 "nbformat_minor": 2
}
